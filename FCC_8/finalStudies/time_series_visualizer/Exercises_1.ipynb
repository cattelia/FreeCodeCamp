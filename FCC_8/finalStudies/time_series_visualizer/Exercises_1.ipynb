{
 "cells": [
  {
   "cell_type": "markdown",
   "metadata": {},
   "source": [
    "![purple-divider](https://user-images.githubusercontent.com/7065401/52071927-c1cd7100-2562-11e9-908a-dde91ba14e59.png)\n",
    "\n",
    "## Time Series Visualizer"
   ]
  },
  {
   "cell_type": "code",
   "execution_count": 61,
   "metadata": {},
   "outputs": [],
   "source": [
    "import matplotlib.pyplot as plt\n",
    "import pandas as pd\n",
    "import seaborn as sns\n",
    "from pandas.plotting import register_matplotlib_converters\n",
    "register_matplotlib_converters()"
   ]
  },
  {
   "cell_type": "code",
   "execution_count": 63,
   "metadata": {},
   "outputs": [
    {
     "data": {
      "text/html": [
       "<div>\n",
       "<style scoped>\n",
       "    .dataframe tbody tr th:only-of-type {\n",
       "        vertical-align: middle;\n",
       "    }\n",
       "\n",
       "    .dataframe tbody tr th {\n",
       "        vertical-align: top;\n",
       "    }\n",
       "\n",
       "    .dataframe thead th {\n",
       "        text-align: right;\n",
       "    }\n",
       "</style>\n",
       "<table border=\"1\" class=\"dataframe\">\n",
       "  <thead>\n",
       "    <tr style=\"text-align: right;\">\n",
       "      <th></th>\n",
       "      <th>value</th>\n",
       "    </tr>\n",
       "    <tr>\n",
       "      <th>date</th>\n",
       "      <th></th>\n",
       "    </tr>\n",
       "  </thead>\n",
       "  <tbody>\n",
       "    <tr>\n",
       "      <th>2016-05-09</th>\n",
       "      <td>1201</td>\n",
       "    </tr>\n",
       "    <tr>\n",
       "      <th>2016-05-10</th>\n",
       "      <td>2329</td>\n",
       "    </tr>\n",
       "    <tr>\n",
       "      <th>2016-05-11</th>\n",
       "      <td>1716</td>\n",
       "    </tr>\n",
       "    <tr>\n",
       "      <th>2016-05-12</th>\n",
       "      <td>10539</td>\n",
       "    </tr>\n",
       "    <tr>\n",
       "      <th>2016-05-13</th>\n",
       "      <td>6933</td>\n",
       "    </tr>\n",
       "  </tbody>\n",
       "</table>\n",
       "</div>"
      ],
      "text/plain": [
       "            value\n",
       "date             \n",
       "2016-05-09   1201\n",
       "2016-05-10   2329\n",
       "2016-05-11   1716\n",
       "2016-05-12  10539\n",
       "2016-05-13   6933"
      ]
     },
     "execution_count": 63,
     "metadata": {},
     "output_type": "execute_result"
    }
   ],
   "source": [
    "# Import data (Make sure to parse dates. Consider setting index column to 'date'.)\n",
    "df = pd.read_csv('C:/Users/catte/Dropbox/Tech Learning/GitHub/FreeCodeCamp/FCC_8/finalStudies/time_series_visualizer/fcc-forum-pageviews.csv', index_col='date')\n",
    "df.head()"
   ]
  },
  {
   "cell_type": "markdown",
   "metadata": {},
   "source": [
    "#### Get the `min` and `max` of the Dataframe"
   ]
  },
  {
   "cell_type": "code",
   "execution_count": 109,
   "metadata": {},
   "outputs": [
    {
     "name": "stdout",
     "output_type": "stream",
     "text": [
      "1145\n",
      "<class 'pandas.core.frame.DataFrame'>\n",
      "Index: 1145 entries, 2016-06-20 to 2019-11-17\n",
      "Data columns (total 1 columns):\n",
      " #   Column  Non-Null Count  Dtype\n",
      "---  ------  --------------  -----\n",
      " 0   value   1145 non-null   int64\n",
      "dtypes: int64(1)\n",
      "memory usage: 17.9+ KB\n"
     ]
    }
   ],
   "source": [
    "# Clean data by filtering out days when the page views were in the top 2.5% of the dataset or bottom 2.5% of the dataset.\n",
    "#max = df.loc[df['value'].idxmax()]\n",
    "#min = df.loc[df['value'].idxmin()]\n",
    "\n",
    "max = df.max()\n",
    "min = df.min()\n",
    "print(len(df))\n",
    "df.info()\n"
   ]
  },
  {
   "cell_type": "code",
   "execution_count": 121,
   "metadata": {},
   "outputs": [
    {
     "name": "stdout",
     "output_type": "stream",
     "text": [
      "979\n",
      "<class 'pandas.core.frame.DataFrame'>\n",
      "Index: 979 entries, 2016-06-20 to 2019-10-06\n",
      "Data columns (total 1 columns):\n",
      " #   Column  Non-Null Count  Dtype\n",
      "---  ------  --------------  -----\n",
      " 0   value   979 non-null    int64\n",
      "dtypes: int64(1)\n",
      "memory usage: 15.3+ KB\n"
     ]
    }
   ],
   "source": [
    "# Use what we learned in Medical Data\n",
    "# (df['height'] >= df['height'].quantile(0.025))\n",
    "'''df = df[(df['value'] <= df['value'].quantile(0.975)) &\n",
    "        (df['value'] >= df['value'].quantile(0.025))\n",
    "        ]'''\n",
    "\n",
    "df = df[(df.value >= df.value.quantile(0.025)) & (df.value <= df.value.quantile(0.975))]\n",
    "print(len(df))\n",
    "df.info()"
   ]
  },
  {
   "cell_type": "markdown",
   "metadata": {},
   "source": [
    "## Draw Line Chart\n",
    "` # As the data is already setup to have one row for each column, we do not need to melt() any DataFrame.`"
   ]
  },
  {
   "cell_type": "code",
   "execution_count": 123,
   "metadata": {},
   "outputs": [],
   "source": [
    "def draw_line_plot():\n",
    "    # Draw line plot\n",
    "    '''\n",
    "    Create a draw_line_plot function that uses Matplotlib to draw a line chart similar to \"examples/Figure_1.png\". \n",
    "    The title should be Daily freeCodeCamp Forum Page Views 5/2016-12/2019. \n",
    "    The label on the x axis should be 'Date' and the label on the y axis should be 'Page Views'.\n",
    "    '''\n",
    "    # Copy the Dataframe\n",
    "    line_plt = df\n",
    "\n",
    "    '''    plt.figure(figsize=(16, 9))\n",
    "    plt.xlabel(\"Date\")\n",
    "    plt.ylabel(\"Page Views\")\n",
    "    plt.title(\"Daily freeCodeCamp Forum Page Views 5/2016-12/2019\")\n",
    "    plt.plot(line_plt.index, line_plt.value, color='red')'''\n",
    "    \n",
    "\n",
    "\n",
    "\n",
    "    # Save image and return fig (don't change this part)\n",
    "    #fig.savefig('line_plot.png')\n",
    "    #return fig\n",
    "draw_line_plot()"
   ]
  },
  {
   "cell_type": "markdown",
   "metadata": {},
   "source": [
    "## Draw Bar Chart"
   ]
  },
  {
   "cell_type": "code",
   "execution_count": 67,
   "metadata": {},
   "outputs": [],
   "source": [
    "def draw_bar_plot():\n",
    "    # Copy and modify data for monthly bar plot\n",
    "    df_bar = None\n",
    "\n",
    "    # Draw bar plot\n",
    "\n",
    "\n",
    "\n",
    "\n",
    "\n",
    "    # Save image and return fig (don't change this part)\n",
    "    fig.savefig('bar_plot.png')\n",
    "    return fig"
   ]
  },
  {
   "cell_type": "markdown",
   "metadata": {},
   "source": [
    "## Draw Box Plot"
   ]
  },
  {
   "cell_type": "code",
   "execution_count": 68,
   "metadata": {},
   "outputs": [],
   "source": [
    "def draw_box_plot():\n",
    "    # Prepare data for box plots (this part is done!)\n",
    "    df_box = df.copy()\n",
    "    df_box.reset_index(inplace=True)\n",
    "    df_box['year'] = [d.year for d in df_box.date]\n",
    "    df_box['month'] = [d.strftime('%b') for d in df_box.date]\n",
    "\n",
    "    # Draw box plots (using Seaborn)\n",
    "\n",
    "    plt.plot(df['value'],color='red',linewidth=0.8)\n",
    "    plt.title('Daily freeCodeCamp Forum Page Views 5/2016-12/2019')\n",
    "    plt.xlabel('Date')\n",
    "    plt.ylabel('Page Views')\n",
    "\n",
    "\n",
    "\n",
    "    # Save image and return fig (don't change this part)\n",
    "    fig.savefig('box_plot.png')\n",
    "    return fig"
   ]
  }
 ],
 "metadata": {
  "kernelspec": {
   "display_name": "Python 3",
   "language": "python",
   "name": "python3"
  },
  "language_info": {
   "codemirror_mode": {
    "name": "ipython",
    "version": 3
   },
   "file_extension": ".py",
   "mimetype": "text/x-python",
   "name": "python",
   "nbconvert_exporter": "python",
   "pygments_lexer": "ipython3",
   "version": "3.11.5"
  }
 },
 "nbformat": 4,
 "nbformat_minor": 4
}
